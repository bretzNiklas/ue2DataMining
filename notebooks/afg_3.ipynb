{
 "cells": [
  {
   "cell_type": "code",
   "execution_count": 118,
   "metadata": {
    "collapsed": true
   },
   "outputs": [
    {
     "name": "stdout",
     "output_type": "stream",
     "text": [
      "[[1 2 0]\n",
      " [2 5 2]\n",
      " [0 2 4]]\n",
      "[[5 2]\n",
      " [2 5]]\n",
      "[[ True  True]\n",
      " [ True  True]]\n",
      "[[ True  True  True]\n",
      " [ True  True  True]\n",
      " [ True  True  True]]\n"
     ]
    }
   ],
   "source": [
    "import numpy as np\n",
    "\n",
    "# A)\n",
    "\n",
    "A = np.matrix('0 1 2; 1 2 0')\n",
    "\n",
    "AtA = np.matmul(A.T, A)\n",
    "AAt = np.matmul(A, A.T)\n",
    "\n",
    "print(AtA)\n",
    "print(AAt)\n",
    "\n",
    "#Symmetrie\n",
    "print(AAt == AAt.T)\n",
    "print(AtA == AtA.T)"
   ]
  },
  {
   "cell_type": "code",
   "execution_count": 119,
   "outputs": [
    {
     "name": "stdout",
     "output_type": "stream",
     "text": [
      "[ 7.00000000e+00 -5.55111512e-16  3.00000000e+00]\n"
     ]
    }
   ],
   "source": [
    "eigenwerte = np.linalg.eigvals(AtA)\n",
    "print(eigenwerte)"
   ],
   "metadata": {
    "collapsed": false
   }
  },
  {
   "cell_type": "code",
   "execution_count": 120,
   "outputs": [],
   "source": [
    "#manuell ausrechnen:\n",
    "# B)\n",
    "\n",
    "# A-lambda*I\n",
    "#identity = np.identity(3)\n",
    "# print(np.subtract(AtA, l*identity))  Wie Matrix mit Variable multiplizieren?\n",
    "\n",
    "#######\n"
   ],
   "metadata": {
    "collapsed": false
   }
  },
  {
   "cell_type": "code",
   "execution_count": 121,
   "outputs": [],
   "source": [
    "eigenvalues, eigenvectors = np.linalg.eig(AtA)\n",
    "\n",
    "l1 = eigenvalues[0]\n",
    "l2 = eigenvalues[2]\n",
    "l3 = eigenvalues[1]\n",
    "\n",
    "v1 = eigenvectors[:, 0]\n",
    "v2 = eigenvectors[:, 2]\n",
    "v3 = eigenvectors[:, 1]\n"
   ],
   "metadata": {
    "collapsed": false
   }
  },
  {
   "cell_type": "markdown",
   "source": [],
   "metadata": {
    "collapsed": false
   }
  },
  {
   "cell_type": "code",
   "execution_count": 122,
   "outputs": [
    {
     "name": "stdout",
     "output_type": "stream",
     "text": [
      "1.0\n"
     ]
    }
   ],
   "source": [
    "\n",
    "length_v1 = np.sqrt(\n",
    "    np.square(v1.item(0)) +\n",
    "    np.square(v1.item(1)) +\n",
    "    np.square(v1.item(2))\n",
    ")\n",
    "\n",
    "print(length_v1)\n",
    "\n",
    "# => schon normiert"
   ],
   "metadata": {
    "collapsed": false
   }
  },
  {
   "cell_type": "code",
   "execution_count": 123,
   "outputs": [
    {
     "name": "stdout",
     "output_type": "stream",
     "text": [
      "[[-0.70710678]\n",
      " [-0.70710678]]\n",
      "[[ 0.70710678]\n",
      " [-0.70710678]]\n"
     ]
    }
   ],
   "source": [
    "u1 = (1/np.sqrt(l1)) * np.matmul(A, v1)\n",
    "u2 = (1/np.sqrt(l2)) * np.matmul(A, v2)\n",
    "\n",
    "print(u1)\n",
    "print(u2)"
   ],
   "metadata": {
    "collapsed": false
   }
  },
  {
   "cell_type": "code",
   "execution_count": 124,
   "outputs": [
    {
     "name": "stdout",
     "output_type": "stream",
     "text": [
      "[[ True]\n",
      " [ True]]\n",
      "[[ True]\n",
      " [ True]]\n"
     ]
    }
   ],
   "source": [
    "# A v = lamda v\n",
    "\n",
    "print(np.isclose( np.matmul(AAt, u1), (l1 * u1)) )\n",
    "print(np.isclose( np.matmul(AAt, u2), (l2 * u2)) )\n",
    "\n",
    "# => sind eigenvektoren"
   ],
   "metadata": {
    "collapsed": false
   }
  },
  {
   "cell_type": "code",
   "execution_count": 125,
   "outputs": [
    {
     "name": "stdout",
     "output_type": "stream",
     "text": [
      "V in first\n",
      "[[-0.26726124 -0.40824829  0.87287156]\n",
      " [-0.80178373 -0.40824829 -0.43643578]\n",
      " [-0.53452248  0.81649658  0.21821789]]\n",
      "U in first\n",
      "[[-0.70710678  0.70710678]\n",
      " [-0.70710678 -0.70710678]]\n"
     ]
    }
   ],
   "source": [
    "V = np.mat(f'{v1.item(0)} {v2.item(0)} {v3.item(0)};'\n",
    "           f'{v1.item(1)} {v2.item(1)} {v3.item(1)};'\n",
    "           f'{v1.item(2)} {v2.item(2)} {v3.item(2)}')\n",
    "print(\"V in first\")\n",
    "print(V)\n",
    "\n",
    "U = np.mat(f'{u1.item(0)} {u2.item(0)};'\n",
    "           f'{u1.item(1)} {u2.item(1)}')\n",
    "\n",
    "print(\"U in first\")\n",
    "print(U)\n"
   ],
   "metadata": {
    "collapsed": false
   }
  },
  {
   "cell_type": "code",
   "execution_count": 126,
   "outputs": [
    {
     "name": "stdout",
     "output_type": "stream",
     "text": [
      "[[ True  True  True]\n",
      " [ True  True  True]\n",
      " [ True  True  True]]\n",
      "[[ True  True]\n",
      " [ True  True]]\n"
     ]
    }
   ],
   "source": [
    "# d)\n",
    "\n",
    "# Orthogonal = AT = A-1\n",
    "\n",
    "print(np.isclose(V.T, np.linalg.inv(V)))\n",
    "\n",
    "print(np.isclose(U.T, np.linalg.inv(U)))"
   ],
   "metadata": {
    "collapsed": false
   }
  },
  {
   "cell_type": "code",
   "execution_count": 131,
   "outputs": [
    {
     "name": "stdout",
     "output_type": "stream",
     "text": [
      "[[ True  True  True]\n",
      " [ True  True  True]\n",
      " [ True  True  True]]\n",
      "[[ True  True]\n",
      " [ True  True]]\n"
     ]
    }
   ],
   "source": [
    "# e)\n",
    "\n",
    "Vv = np.diag([l1 ,l2, l3])\n",
    "\n",
    "print(np.isclose(AtA, V @ Vv @ V.T))\n",
    "\n",
    "Uv = np.diag([l1, l2])\n",
    "\n",
    "print(np.isclose(AAt, U @ Uv @ U.T))\n"
   ],
   "metadata": {
    "collapsed": false
   }
  },
  {
   "cell_type": "code",
   "execution_count": 135,
   "outputs": [
    {
     "name": "stdout",
     "output_type": "stream",
     "text": [
      "[[ True  True  True]\n",
      " [ True  True  True]]\n"
     ]
    }
   ],
   "source": [
    "# f)\n",
    "\n",
    "S = np.mat(f'{np.sqrt(l1)} 0 0;'\n",
    "           f'0 {np.sqrt(l2)} 0')\n",
    "\n",
    "\n",
    "print(np.isclose(A, U @ S @ V.T ))\n"
   ],
   "metadata": {
    "collapsed": false
   }
  }
 ],
 "metadata": {
  "kernelspec": {
   "display_name": "Python 3",
   "language": "python",
   "name": "python3"
  },
  "language_info": {
   "codemirror_mode": {
    "name": "ipython",
    "version": 2
   },
   "file_extension": ".py",
   "mimetype": "text/x-python",
   "name": "python",
   "nbconvert_exporter": "python",
   "pygments_lexer": "ipython2",
   "version": "2.7.6"
  }
 },
 "nbformat": 4,
 "nbformat_minor": 0
}
