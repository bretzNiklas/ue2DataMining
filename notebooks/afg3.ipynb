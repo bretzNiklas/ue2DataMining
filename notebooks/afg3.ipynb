{
 "cells": [
  {
   "cell_type": "code",
   "execution_count": 156,
   "metadata": {
    "collapsed": true
   },
   "outputs": [
    {
     "name": "stdout",
     "output_type": "stream",
     "text": [
      "[[1 2 0]\n",
      " [2 5 2]\n",
      " [0 2 4]]\n",
      "[[5 2]\n",
      " [2 5]]\n",
      "[[ True  True]\n",
      " [ True  True]]\n",
      "[[ True  True  True]\n",
      " [ True  True  True]\n",
      " [ True  True  True]]\n"
     ]
    }
   ],
   "source": [
    "import numpy as np\n",
    "\n",
    "# A)\n",
    "\n",
    "A = np.matrix('0 1 2; 1 2 0')\n",
    "\n",
    "AtA = np.matmul(A.T, A)\n",
    "AAt = np.matmul(A, A.T)\n",
    "\n",
    "print(AtA)\n",
    "print(AAt)\n",
    "\n",
    "#Symmetrie\n",
    "print(AAt == AAt.T)\n",
    "print(AtA == AtA.T)"
   ]
  },
  {
   "cell_type": "code",
   "execution_count": 157,
   "outputs": [],
   "source": [
    "# B)\n",
    "\n",
    "# A-lambda*I\n",
    "#identity = np.identity(3)\n",
    "# print(np.subtract(AtA, l*identity))  Wie Matrix mit Variable multiplizieren?"
   ],
   "metadata": {
    "collapsed": false
   }
  },
  {
   "cell_type": "code",
   "execution_count": 158,
   "outputs": [
    {
     "name": "stdout",
     "output_type": "stream",
     "text": [
      "[ 7.00000000e+00 -5.55111512e-16  3.00000000e+00]\n"
     ]
    }
   ],
   "source": [
    "eigenwerte = np.linalg.eigvals(AtA)\n",
    "print(eigenwerte)"
   ],
   "metadata": {
    "collapsed": false
   }
  },
  {
   "cell_type": "code",
   "execution_count": 159,
   "outputs": [
    {
     "name": "stdout",
     "output_type": "stream",
     "text": [
      "(array([ 7.00000000e+00, -5.55111512e-16,  3.00000000e+00]), matrix([[-0.26726124,  0.87287156, -0.40824829],\n",
      "        [-0.80178373, -0.43643578, -0.40824829],\n",
      "        [-0.53452248,  0.21821789,  0.81649658]]))\n",
      "6.999999999999996\n",
      "3.0\n"
     ]
    }
   ],
   "source": [
    "eigenvektoren = np.linalg.eig(AtA)\n",
    "print(eigenvektoren)\n",
    "\n",
    "# für C)\n",
    "lambda1 = eigenvektoren[0][0]\n",
    "lambda2 = eigenvektoren[0][2]\n",
    "\n",
    "eingenvektor_zu_lambda1 = eigenvektoren[1][0]\n",
    "eingenvektor_zu_lambda2 = eigenvektoren[1][2]\n",
    "\n",
    "print(lambda1)\n",
    "print(lambda2)"
   ],
   "metadata": {
    "collapsed": false
   }
  },
  {
   "cell_type": "code",
   "execution_count": 1,
   "outputs": [
    {
     "ename": "NameError",
     "evalue": "name 'np' is not defined",
     "output_type": "error",
     "traceback": [
      "\u001B[1;31m---------------------------------------------------------------------------\u001B[0m",
      "\u001B[1;31mNameError\u001B[0m                                 Traceback (most recent call last)",
      "Cell \u001B[1;32mIn[1], line 1\u001B[0m\n\u001B[1;32m----> 1\u001B[0m length \u001B[38;5;241m=\u001B[39m \u001B[43mnp\u001B[49m\u001B[38;5;241m.\u001B[39msqrt(np\u001B[38;5;241m.\u001B[39msquare(eigenvektoren[\u001B[38;5;241m1\u001B[39m]\u001B[38;5;241m.\u001B[39mitem(\u001B[38;5;241m0\u001B[39m, \u001B[38;5;241m0\u001B[39m)) \u001B[38;5;241m+\u001B[39m np\u001B[38;5;241m.\u001B[39msquare(eigenvektoren[\u001B[38;5;241m1\u001B[39m]\u001B[38;5;241m.\u001B[39mitem(\u001B[38;5;241m0\u001B[39m, \u001B[38;5;241m1\u001B[39m)) \u001B[38;5;241m+\u001B[39m np\u001B[38;5;241m.\u001B[39msquare(eigenvektoren[\u001B[38;5;241m1\u001B[39m]\u001B[38;5;241m.\u001B[39mitem(\u001B[38;5;241m0\u001B[39m, \u001B[38;5;241m2\u001B[39m)))\n\u001B[0;32m      2\u001B[0m \u001B[38;5;28mprint\u001B[39m(length)\n\u001B[0;32m      4\u001B[0m \u001B[38;5;66;03m#Schon normiert\u001B[39;00m\n",
      "\u001B[1;31mNameError\u001B[0m: name 'np' is not defined"
     ]
    }
   ],
   "source": [
    "length = np.sqrt(np.square(eigenvektoren[1].item(0, 0)) + np.square(eigenvektoren[1].item(0, 1)) + np.square(eigenvektoren[1].item(0, 2)))\n",
    "print(length)\n",
    "\n",
    "#Schon normiert"
   ],
   "metadata": {
    "collapsed": false
   }
  },
  {
   "cell_type": "code",
   "execution_count": 166,
   "outputs": [],
   "source": [
    "# C)\n",
    "\n",
    "\n",
    "\n",
    "l1_vertikal = np.matrix(f'{eingenvektor_zu_lambda1.item(0)}; {eingenvektor_zu_lambda1.item(1)}; {eingenvektor_zu_lambda1.item(2)}')\n",
    "l2_vertikal = np.matrix(f'{eingenvektor_zu_lambda2.item(0)}; {eingenvektor_zu_lambda2.item(1)}; {eingenvektor_zu_lambda2.item(2)}')\n",
    "\n",
    "# print(l1_vertikal)\n",
    "# print(l2_vertikal)\n",
    "#\n",
    "# print(A)\n",
    "\n",
    "\n",
    "u1 = (1/np.sqrt(lambda1)) * (np.matmul(A, l1_vertikal))\n",
    "u2 = (1/np.sqrt(lambda2)) * (np.matmul(A, l2_vertikal))\n",
    "\n",
    "#\n",
    "# print(u1)\n",
    "# print(u2)"
   ],
   "metadata": {
    "collapsed": false
   }
  },
  {
   "cell_type": "code",
   "execution_count": 167,
   "outputs": [
    {
     "name": "stdout",
     "output_type": "stream",
     "text": [
      "[[3.42431347]\n",
      " [1.21401757]]\n",
      "[[ 4.89784407]\n",
      " [-0.25951302]]\n"
     ]
    }
   ],
   "source": [
    "#Eigenvektor = Av = lamda v\n",
    "\n",
    "print(np.matmul(AAt, u1))\n",
    "\n",
    "\n",
    "print(np.multiply(lambda1, u1))"
   ],
   "metadata": {
    "collapsed": false
   }
  },
  {
   "cell_type": "code",
   "execution_count": 162,
   "outputs": [],
   "source": [],
   "metadata": {
    "collapsed": false
   }
  }
 ],
 "metadata": {
  "kernelspec": {
   "display_name": "Python 3",
   "language": "python",
   "name": "python3"
  },
  "language_info": {
   "codemirror_mode": {
    "name": "ipython",
    "version": 2
   },
   "file_extension": ".py",
   "mimetype": "text/x-python",
   "name": "python",
   "nbconvert_exporter": "python",
   "pygments_lexer": "ipython2",
   "version": "2.7.6"
  }
 },
 "nbformat": 4,
 "nbformat_minor": 0
}
